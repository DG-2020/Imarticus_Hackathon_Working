{
 "cells": [
  {
   "cell_type": "code",
   "execution_count": 1,
   "metadata": {},
   "outputs": [],
   "source": [
    "import pandas as pd\n",
    "import numpy as np\n",
    "import matplotlib.pyplot as plt\n",
    "import seaborn as sns\n",
    "import warnings\n",
    "warnings.filterwarnings('ignore')\n",
    "import os"
   ]
  },
  {
   "cell_type": "code",
   "execution_count": 2,
   "metadata": {},
   "outputs": [
    {
     "data": {
      "text/html": [
       "<div>\n",
       "<style scoped>\n",
       "    .dataframe tbody tr th:only-of-type {\n",
       "        vertical-align: middle;\n",
       "    }\n",
       "\n",
       "    .dataframe tbody tr th {\n",
       "        vertical-align: top;\n",
       "    }\n",
       "\n",
       "    .dataframe thead th {\n",
       "        text-align: right;\n",
       "    }\n",
       "</style>\n",
       "<table border=\"1\" class=\"dataframe\">\n",
       "  <thead>\n",
       "    <tr style=\"text-align: right;\">\n",
       "      <th></th>\n",
       "      <th>id</th>\n",
       "      <th>headquarter</th>\n",
       "      <th>location.Code</th>\n",
       "      <th>date_of_establishment</th>\n",
       "      <th>location</th>\n",
       "      <th>loc.details</th>\n",
       "      <th>state</th>\n",
       "      <th>deposit_amount_2011</th>\n",
       "      <th>deposit_amount_2012</th>\n",
       "      <th>deposit_amount_2013</th>\n",
       "      <th>deposit_amount_2014</th>\n",
       "      <th>deposit_amount_2015</th>\n",
       "      <th>deposit_amount_2016</th>\n",
       "      <th>deposit_amount_2017</th>\n",
       "    </tr>\n",
       "  </thead>\n",
       "  <tbody>\n",
       "    <tr>\n",
       "      <th>0</th>\n",
       "      <td>1</td>\n",
       "      <td>0</td>\n",
       "      <td>2871</td>\n",
       "      <td>02-06-1911</td>\n",
       "      <td>Wales</td>\n",
       "      <td>Waukesha</td>\n",
       "      <td>WI</td>\n",
       "      <td>32079.0</td>\n",
       "      <td>35971.5</td>\n",
       "      <td>37237.5</td>\n",
       "      <td>40362.0</td>\n",
       "      <td>46021.5</td>\n",
       "      <td>46020.0</td>\n",
       "      <td>69030.00</td>\n",
       "    </tr>\n",
       "    <tr>\n",
       "      <th>1</th>\n",
       "      <td>2</td>\n",
       "      <td>0</td>\n",
       "      <td>2872</td>\n",
       "      <td>NaN</td>\n",
       "      <td>Germantown</td>\n",
       "      <td>Washington</td>\n",
       "      <td>WI</td>\n",
       "      <td>83181.0</td>\n",
       "      <td>84846.0</td>\n",
       "      <td>97098.0</td>\n",
       "      <td>110284.5</td>\n",
       "      <td>122035.5</td>\n",
       "      <td>133905.0</td>\n",
       "      <td>200857.50</td>\n",
       "    </tr>\n",
       "    <tr>\n",
       "      <th>2</th>\n",
       "      <td>3</td>\n",
       "      <td>0</td>\n",
       "      <td>2873</td>\n",
       "      <td>04-06-1908</td>\n",
       "      <td>Brookfield</td>\n",
       "      <td>Waukesha</td>\n",
       "      <td>WI</td>\n",
       "      <td>136323.0</td>\n",
       "      <td>156450.0</td>\n",
       "      <td>187557.0</td>\n",
       "      <td>188859.0</td>\n",
       "      <td>198751.5</td>\n",
       "      <td>206044.5</td>\n",
       "      <td>309066.75</td>\n",
       "    </tr>\n",
       "    <tr>\n",
       "      <th>3</th>\n",
       "      <td>4</td>\n",
       "      <td>0</td>\n",
       "      <td>2874</td>\n",
       "      <td>NaN</td>\n",
       "      <td>Pewaukee</td>\n",
       "      <td>Waukesha</td>\n",
       "      <td>WI</td>\n",
       "      <td>68511.0</td>\n",
       "      <td>73932.0</td>\n",
       "      <td>79876.5</td>\n",
       "      <td>105603.0</td>\n",
       "      <td>112113.0</td>\n",
       "      <td>110755.5</td>\n",
       "      <td>166133.25</td>\n",
       "    </tr>\n",
       "    <tr>\n",
       "      <th>4</th>\n",
       "      <td>5</td>\n",
       "      <td>0</td>\n",
       "      <td>2875</td>\n",
       "      <td>NaN</td>\n",
       "      <td>Waukesha</td>\n",
       "      <td>Waukesha</td>\n",
       "      <td>WI</td>\n",
       "      <td>96271.5</td>\n",
       "      <td>108325.5</td>\n",
       "      <td>104880.0</td>\n",
       "      <td>121054.5</td>\n",
       "      <td>113956.5</td>\n",
       "      <td>109837.5</td>\n",
       "      <td>164756.25</td>\n",
       "    </tr>\n",
       "  </tbody>\n",
       "</table>\n",
       "</div>"
      ],
      "text/plain": [
       "   id  headquarter  location.Code date_of_establishment    location  \\\n",
       "0   1            0           2871            02-06-1911       Wales   \n",
       "1   2            0           2872                   NaN  Germantown   \n",
       "2   3            0           2873            04-06-1908  Brookfield   \n",
       "3   4            0           2874                   NaN    Pewaukee   \n",
       "4   5            0           2875                   NaN    Waukesha   \n",
       "\n",
       "  loc.details state  deposit_amount_2011  deposit_amount_2012  \\\n",
       "0    Waukesha    WI              32079.0              35971.5   \n",
       "1  Washington    WI              83181.0              84846.0   \n",
       "2    Waukesha    WI             136323.0             156450.0   \n",
       "3    Waukesha    WI              68511.0              73932.0   \n",
       "4    Waukesha    WI              96271.5             108325.5   \n",
       "\n",
       "   deposit_amount_2013  deposit_amount_2014  deposit_amount_2015  \\\n",
       "0              37237.5              40362.0              46021.5   \n",
       "1              97098.0             110284.5             122035.5   \n",
       "2             187557.0             188859.0             198751.5   \n",
       "3              79876.5             105603.0             112113.0   \n",
       "4             104880.0             121054.5             113956.5   \n",
       "\n",
       "   deposit_amount_2016  deposit_amount_2017  \n",
       "0              46020.0             69030.00  \n",
       "1             133905.0            200857.50  \n",
       "2             206044.5            309066.75  \n",
       "3             110755.5            166133.25  \n",
       "4             109837.5            164756.25  "
      ]
     },
     "execution_count": 2,
     "metadata": {},
     "output_type": "execute_result"
    }
   ],
   "source": [
    "# Load Training Set\n",
    "filename = os.path.join(os.getcwd(), 'train_hackathon.csv')\n",
    "train = pd.read_csv(filename)\n",
    "train.head()"
   ]
  },
  {
   "cell_type": "code",
   "execution_count": 3,
   "metadata": {},
   "outputs": [
    {
     "data": {
      "text/html": [
       "<div>\n",
       "<style scoped>\n",
       "    .dataframe tbody tr th:only-of-type {\n",
       "        vertical-align: middle;\n",
       "    }\n",
       "\n",
       "    .dataframe tbody tr th {\n",
       "        vertical-align: top;\n",
       "    }\n",
       "\n",
       "    .dataframe thead th {\n",
       "        text-align: right;\n",
       "    }\n",
       "</style>\n",
       "<table border=\"1\" class=\"dataframe\">\n",
       "  <thead>\n",
       "    <tr style=\"text-align: right;\">\n",
       "      <th></th>\n",
       "      <th>id</th>\n",
       "      <th>headquarter</th>\n",
       "      <th>location.Code</th>\n",
       "      <th>date_of_establishment</th>\n",
       "      <th>location</th>\n",
       "      <th>loc.details</th>\n",
       "      <th>state</th>\n",
       "      <th>deposit_amount_2011</th>\n",
       "      <th>deposit_amount_2012</th>\n",
       "      <th>deposit_amount_2013</th>\n",
       "      <th>deposit_amount_2014</th>\n",
       "      <th>deposit_amount_2015</th>\n",
       "      <th>deposit_amount_2016</th>\n",
       "    </tr>\n",
       "  </thead>\n",
       "  <tbody>\n",
       "    <tr>\n",
       "      <th>0</th>\n",
       "      <td>1</td>\n",
       "      <td>1</td>\n",
       "      <td>5</td>\n",
       "      <td>1824-12-31</td>\n",
       "      <td>Columbus</td>\n",
       "      <td>Delaware</td>\n",
       "      <td>OH</td>\n",
       "      <td>949696500.0</td>\n",
       "      <td>1.114902e+09</td>\n",
       "      <td>1.248682e+09</td>\n",
       "      <td>1.374814e+09</td>\n",
       "      <td>1.548824e+09</td>\n",
       "      <td>1.604138e+09</td>\n",
       "    </tr>\n",
       "    <tr>\n",
       "      <th>1</th>\n",
       "      <td>2</td>\n",
       "      <td>0</td>\n",
       "      <td>7</td>\n",
       "      <td>NaN</td>\n",
       "      <td>Scarsdale</td>\n",
       "      <td>Westchester</td>\n",
       "      <td>NY</td>\n",
       "      <td>439843.5</td>\n",
       "      <td>4.661865e+05</td>\n",
       "      <td>4.886130e+05</td>\n",
       "      <td>4.918950e+05</td>\n",
       "      <td>4.916880e+05</td>\n",
       "      <td>5.122125e+05</td>\n",
       "    </tr>\n",
       "    <tr>\n",
       "      <th>2</th>\n",
       "      <td>3</td>\n",
       "      <td>0</td>\n",
       "      <td>8</td>\n",
       "      <td>08-09-1964</td>\n",
       "      <td>Great Neck</td>\n",
       "      <td>Nassau</td>\n",
       "      <td>NY</td>\n",
       "      <td>286516.5</td>\n",
       "      <td>3.103995e+05</td>\n",
       "      <td>3.246585e+05</td>\n",
       "      <td>3.569745e+05</td>\n",
       "      <td>3.512745e+05</td>\n",
       "      <td>3.936825e+05</td>\n",
       "    </tr>\n",
       "    <tr>\n",
       "      <th>3</th>\n",
       "      <td>4</td>\n",
       "      <td>0</td>\n",
       "      <td>9</td>\n",
       "      <td>NaN</td>\n",
       "      <td>Hartsdale</td>\n",
       "      <td>Westchester</td>\n",
       "      <td>NY</td>\n",
       "      <td>130665.0</td>\n",
       "      <td>1.325505e+05</td>\n",
       "      <td>1.397445e+05</td>\n",
       "      <td>1.644885e+05</td>\n",
       "      <td>1.679775e+05</td>\n",
       "      <td>1.751580e+05</td>\n",
       "    </tr>\n",
       "    <tr>\n",
       "      <th>4</th>\n",
       "      <td>5</td>\n",
       "      <td>0</td>\n",
       "      <td>10</td>\n",
       "      <td>NaN</td>\n",
       "      <td>Lawrence</td>\n",
       "      <td>Nassau</td>\n",
       "      <td>NY</td>\n",
       "      <td>258912.0</td>\n",
       "      <td>2.591235e+05</td>\n",
       "      <td>2.841195e+05</td>\n",
       "      <td>2.976675e+05</td>\n",
       "      <td>3.077970e+05</td>\n",
       "      <td>3.348000e+05</td>\n",
       "    </tr>\n",
       "  </tbody>\n",
       "</table>\n",
       "</div>"
      ],
      "text/plain": [
       "   id  headquarter  location.Code date_of_establishment    location  \\\n",
       "0   1            1              5            1824-12-31    Columbus   \n",
       "1   2            0              7                   NaN   Scarsdale   \n",
       "2   3            0              8            08-09-1964  Great Neck   \n",
       "3   4            0              9                   NaN   Hartsdale   \n",
       "4   5            0             10                   NaN    Lawrence   \n",
       "\n",
       "   loc.details state  deposit_amount_2011  deposit_amount_2012  \\\n",
       "0     Delaware    OH          949696500.0         1.114902e+09   \n",
       "1  Westchester    NY             439843.5         4.661865e+05   \n",
       "2       Nassau    NY             286516.5         3.103995e+05   \n",
       "3  Westchester    NY             130665.0         1.325505e+05   \n",
       "4       Nassau    NY             258912.0         2.591235e+05   \n",
       "\n",
       "   deposit_amount_2013  deposit_amount_2014  deposit_amount_2015  \\\n",
       "0         1.248682e+09         1.374814e+09         1.548824e+09   \n",
       "1         4.886130e+05         4.918950e+05         4.916880e+05   \n",
       "2         3.246585e+05         3.569745e+05         3.512745e+05   \n",
       "3         1.397445e+05         1.644885e+05         1.679775e+05   \n",
       "4         2.841195e+05         2.976675e+05         3.077970e+05   \n",
       "\n",
       "   deposit_amount_2016  \n",
       "0         1.604138e+09  \n",
       "1         5.122125e+05  \n",
       "2         3.936825e+05  \n",
       "3         1.751580e+05  \n",
       "4         3.348000e+05  "
      ]
     },
     "execution_count": 3,
     "metadata": {},
     "output_type": "execute_result"
    }
   ],
   "source": [
    "# Load testing set\n",
    "filename = os.path.join(os.getcwd(), 'test_hackathon.csv')\n",
    "test = pd.read_csv(filename)\n",
    "test.head()"
   ]
  },
  {
   "cell_type": "code",
   "execution_count": 4,
   "metadata": {},
   "outputs": [],
   "source": [
    "# Taking required columns from TRAIN\n",
    "train = train[['location.Code', 'location', 'loc.details', 'state', 'deposit_amount_2011', 'deposit_amount_2012', \n",
    "               'deposit_amount_2013',  'deposit_amount_2014', 'deposit_amount_2015',  'deposit_amount_2016',\n",
    "               'deposit_amount_2017']]"
   ]
  },
  {
   "cell_type": "code",
   "execution_count": 5,
   "metadata": {},
   "outputs": [],
   "source": [
    "# Taking required columns from TEST\n",
    "test = test[['location.Code', 'location', 'loc.details', 'state', 'deposit_amount_2011', 'deposit_amount_2012', \n",
    "             'deposit_amount_2013',  'deposit_amount_2014', 'deposit_amount_2015',  'deposit_amount_2016']]"
   ]
  },
  {
   "cell_type": "code",
   "execution_count": 6,
   "metadata": {},
   "outputs": [
    {
     "data": {
      "text/html": [
       "<div>\n",
       "<style scoped>\n",
       "    .dataframe tbody tr th:only-of-type {\n",
       "        vertical-align: middle;\n",
       "    }\n",
       "\n",
       "    .dataframe tbody tr th {\n",
       "        vertical-align: top;\n",
       "    }\n",
       "\n",
       "    .dataframe thead th {\n",
       "        text-align: right;\n",
       "    }\n",
       "</style>\n",
       "<table border=\"1\" class=\"dataframe\">\n",
       "  <thead>\n",
       "    <tr style=\"text-align: right;\">\n",
       "      <th></th>\n",
       "      <th>location</th>\n",
       "      <th>loc.details</th>\n",
       "      <th>state</th>\n",
       "      <th>location.Code</th>\n",
       "    </tr>\n",
       "  </thead>\n",
       "  <tbody>\n",
       "    <tr>\n",
       "      <th>0</th>\n",
       "      <td>Wales</td>\n",
       "      <td>Waukesha</td>\n",
       "      <td>WI</td>\n",
       "      <td>2871</td>\n",
       "    </tr>\n",
       "    <tr>\n",
       "      <th>1</th>\n",
       "      <td>Germantown</td>\n",
       "      <td>Washington</td>\n",
       "      <td>WI</td>\n",
       "      <td>2872</td>\n",
       "    </tr>\n",
       "    <tr>\n",
       "      <th>2</th>\n",
       "      <td>Brookfield</td>\n",
       "      <td>Waukesha</td>\n",
       "      <td>WI</td>\n",
       "      <td>2873</td>\n",
       "    </tr>\n",
       "    <tr>\n",
       "      <th>3</th>\n",
       "      <td>Pewaukee</td>\n",
       "      <td>Waukesha</td>\n",
       "      <td>WI</td>\n",
       "      <td>2874</td>\n",
       "    </tr>\n",
       "    <tr>\n",
       "      <th>4</th>\n",
       "      <td>Waukesha</td>\n",
       "      <td>Waukesha</td>\n",
       "      <td>WI</td>\n",
       "      <td>2875</td>\n",
       "    </tr>\n",
       "  </tbody>\n",
       "</table>\n",
       "</div>"
      ],
      "text/plain": [
       "     location loc.details state  location.Code\n",
       "0       Wales    Waukesha    WI           2871\n",
       "1  Germantown  Washington    WI           2872\n",
       "2  Brookfield    Waukesha    WI           2873\n",
       "3    Pewaukee    Waukesha    WI           2874\n",
       "4    Waukesha    Waukesha    WI           2875"
      ]
     },
     "execution_count": 6,
     "metadata": {},
     "output_type": "execute_result"
    }
   ],
   "source": [
    "# Categorical Columns ~ Training\n",
    "categorical_columns = [col for col in train.columns.values if train[col].dtype == 'object']\n",
    "\n",
    "data_cat = train[categorical_columns]\n",
    "data_cat = pd.concat([data_cat, train['location.Code']], axis = 1)\n",
    "data_cat.head()"
   ]
  },
  {
   "cell_type": "code",
   "execution_count": 7,
   "metadata": {},
   "outputs": [
    {
     "data": {
      "text/html": [
       "<div>\n",
       "<style scoped>\n",
       "    .dataframe tbody tr th:only-of-type {\n",
       "        vertical-align: middle;\n",
       "    }\n",
       "\n",
       "    .dataframe tbody tr th {\n",
       "        vertical-align: top;\n",
       "    }\n",
       "\n",
       "    .dataframe thead th {\n",
       "        text-align: right;\n",
       "    }\n",
       "</style>\n",
       "<table border=\"1\" class=\"dataframe\">\n",
       "  <thead>\n",
       "    <tr style=\"text-align: right;\">\n",
       "      <th></th>\n",
       "      <th>location</th>\n",
       "      <th>loc.details</th>\n",
       "      <th>state</th>\n",
       "      <th>location.Code</th>\n",
       "    </tr>\n",
       "  </thead>\n",
       "  <tbody>\n",
       "    <tr>\n",
       "      <th>0</th>\n",
       "      <td>Columbus</td>\n",
       "      <td>Delaware</td>\n",
       "      <td>OH</td>\n",
       "      <td>5</td>\n",
       "    </tr>\n",
       "    <tr>\n",
       "      <th>1</th>\n",
       "      <td>Scarsdale</td>\n",
       "      <td>Westchester</td>\n",
       "      <td>NY</td>\n",
       "      <td>7</td>\n",
       "    </tr>\n",
       "    <tr>\n",
       "      <th>2</th>\n",
       "      <td>Great Neck</td>\n",
       "      <td>Nassau</td>\n",
       "      <td>NY</td>\n",
       "      <td>8</td>\n",
       "    </tr>\n",
       "    <tr>\n",
       "      <th>3</th>\n",
       "      <td>Hartsdale</td>\n",
       "      <td>Westchester</td>\n",
       "      <td>NY</td>\n",
       "      <td>9</td>\n",
       "    </tr>\n",
       "    <tr>\n",
       "      <th>4</th>\n",
       "      <td>Lawrence</td>\n",
       "      <td>Nassau</td>\n",
       "      <td>NY</td>\n",
       "      <td>10</td>\n",
       "    </tr>\n",
       "  </tbody>\n",
       "</table>\n",
       "</div>"
      ],
      "text/plain": [
       "     location  loc.details state  location.Code\n",
       "0    Columbus     Delaware    OH              5\n",
       "1   Scarsdale  Westchester    NY              7\n",
       "2  Great Neck       Nassau    NY              8\n",
       "3   Hartsdale  Westchester    NY              9\n",
       "4    Lawrence       Nassau    NY             10"
      ]
     },
     "execution_count": 7,
     "metadata": {},
     "output_type": "execute_result"
    }
   ],
   "source": [
    "# Categorical Coluimns ~ Testing\n",
    "categorical_columns = [col for col in test.columns.values if test[col].dtype == 'object']\n",
    "\n",
    "data_cat1 = test[categorical_columns]\n",
    "data_cat1 = pd.concat([data_cat1, test['location.Code']], axis = 1)\n",
    "data_cat1.head()"
   ]
  },
  {
   "cell_type": "code",
   "execution_count": 8,
   "metadata": {},
   "outputs": [],
   "source": [
    "# Making the number of Categorical Variables in TEST and TRAIN equal\n",
    "train_objs_num = len(train)\n",
    "dataset = pd.concat(objs = [data_cat, data_cat1], axis = 0)\n",
    "dataset = pd.get_dummies(dataset)\n",
    "\n",
    "train_cat = dataset[:train_objs_num]\n",
    "test_cat = dataset[train_objs_num:]"
   ]
  },
  {
   "cell_type": "code",
   "execution_count": 9,
   "metadata": {},
   "outputs": [
    {
     "name": "stdout",
     "output_type": "stream",
     "text": [
      "(3790, 2283)\n",
      "(1623, 2283)\n"
     ]
    }
   ],
   "source": [
    "# Shape test for both the sets\n",
    "print(train_cat.shape)\n",
    "print(test_cat.shape)"
   ]
  },
  {
   "cell_type": "code",
   "execution_count": 10,
   "metadata": {},
   "outputs": [],
   "source": [
    "#Replacing the null values present in the dataset with their mean\n",
    "\n",
    "train[\"deposit_amount_2011\"] = train.groupby(['location','loc.details','state'])['deposit_amount_2011'].transform(lambda x: x.fillna(x.mean()))\n",
    "train[\"deposit_amount_2012\"] = train.groupby(['location','loc.details','state'])['deposit_amount_2012'].transform(lambda x: x.fillna(x.mean()))\n",
    "train[\"deposit_amount_2013\"] = train.groupby(['location','loc.details','state'])['deposit_amount_2013'].transform(lambda x: x.fillna(x.mean()))\n",
    "train[\"deposit_amount_2014\"] = train.groupby(['location','loc.details','state'])['deposit_amount_2014'].transform(lambda x: x.fillna(x.mean()))\n",
    "train[\"deposit_amount_2015\"] = train.groupby(['location','loc.details','state'])['deposit_amount_2015'].transform(lambda x: x.fillna(x.mean()))\n",
    "train[\"deposit_amount_2016\"] = train.groupby(['location','loc.details','state'])['deposit_amount_2016'].transform(lambda x: x.fillna(x.mean()))\n"
   ]
  },
  {
   "cell_type": "code",
   "execution_count": 11,
   "metadata": {},
   "outputs": [],
   "source": [
    "train = train.dropna()"
   ]
  },
  {
   "cell_type": "markdown",
   "metadata": {},
   "source": [
    "## Removing Outliers"
   ]
  },
  {
   "cell_type": "code",
   "execution_count": 12,
   "metadata": {},
   "outputs": [],
   "source": [
    "split_data = train"
   ]
  },
  {
   "cell_type": "code",
   "execution_count": 13,
   "metadata": {},
   "outputs": [
    {
     "name": "stdout",
     "output_type": "stream",
     "text": [
      "78157.5\n"
     ]
    }
   ],
   "source": [
    "Q1 = split_data['deposit_amount_2011'].quantile(0.25)\n",
    "Q3 = split_data['deposit_amount_2011'].quantile(0.75)\n",
    "\n",
    "IQR = Q3 - Q1\n",
    "print(IQR)"
   ]
  },
  {
   "cell_type": "code",
   "execution_count": 14,
   "metadata": {},
   "outputs": [],
   "source": [
    "split_data.drop(split_data[(split_data['deposit_amount_2011'] < (Q1 - 1.5 * IQR)) |(split_data['deposit_amount_2011'] > (Q3 + 1.5 * IQR)) == True].index,inplace = True)"
   ]
  },
  {
   "cell_type": "code",
   "execution_count": 15,
   "metadata": {},
   "outputs": [
    {
     "data": {
      "text/plain": [
       "(3384, 11)"
      ]
     },
     "execution_count": 15,
     "metadata": {},
     "output_type": "execute_result"
    }
   ],
   "source": [
    "split_data.shape"
   ]
  },
  {
   "cell_type": "code",
   "execution_count": 16,
   "metadata": {},
   "outputs": [
    {
     "name": "stdout",
     "output_type": "stream",
     "text": [
      "66972.0\n"
     ]
    }
   ],
   "source": [
    "Q1 = split_data['deposit_amount_2012'].quantile(0.25)\n",
    "Q3 = split_data['deposit_amount_2012'].quantile(0.75)\n",
    "IQR = Q3 - Q1\n",
    "print(IQR)"
   ]
  },
  {
   "cell_type": "code",
   "execution_count": 17,
   "metadata": {},
   "outputs": [
    {
     "data": {
      "text/plain": [
       "(None,)"
      ]
     },
     "execution_count": 17,
     "metadata": {},
     "output_type": "execute_result"
    }
   ],
   "source": [
    "split_data.drop(split_data[(split_data['deposit_amount_2012'] < (Q1 - 1.5 * IQR)) |(split_data['deposit_amount_2012'] > (Q3 + 1.5 * IQR)) == True].index,inplace = True),"
   ]
  },
  {
   "cell_type": "code",
   "execution_count": 18,
   "metadata": {},
   "outputs": [
    {
     "data": {
      "text/plain": [
       "(3274, 11)"
      ]
     },
     "execution_count": 18,
     "metadata": {},
     "output_type": "execute_result"
    }
   ],
   "source": [
    "split_data.shape"
   ]
  },
  {
   "cell_type": "code",
   "execution_count": 19,
   "metadata": {},
   "outputs": [
    {
     "name": "stdout",
     "output_type": "stream",
     "text": [
      "66331.5\n"
     ]
    }
   ],
   "source": [
    "Q1 = split_data['deposit_amount_2013'].quantile(0.25)\n",
    "Q3 = split_data['deposit_amount_2013'].quantile(0.75)\n",
    "IQR = Q3 - Q1\n",
    "print(IQR)"
   ]
  },
  {
   "cell_type": "code",
   "execution_count": 20,
   "metadata": {},
   "outputs": [],
   "source": [
    "split_data.drop(split_data[(split_data['deposit_amount_2013'] < (Q1 - 1.5 * IQR)) |(split_data['deposit_amount_2013'] > (Q3 + 1.5 * IQR)) == True].index,inplace = True)"
   ]
  },
  {
   "cell_type": "code",
   "execution_count": 21,
   "metadata": {},
   "outputs": [
    {
     "data": {
      "text/plain": [
       "(3229, 11)"
      ]
     },
     "execution_count": 21,
     "metadata": {},
     "output_type": "execute_result"
    }
   ],
   "source": [
    "split_data.shape"
   ]
  },
  {
   "cell_type": "code",
   "execution_count": 22,
   "metadata": {},
   "outputs": [
    {
     "name": "stdout",
     "output_type": "stream",
     "text": [
      "67134.0\n"
     ]
    }
   ],
   "source": [
    "Q1 = split_data['deposit_amount_2014'].quantile(0.25)\n",
    "Q3 = split_data['deposit_amount_2014'].quantile(0.75)\n",
    "IQR = Q3 - Q1\n",
    "print(IQR)"
   ]
  },
  {
   "cell_type": "code",
   "execution_count": 23,
   "metadata": {},
   "outputs": [],
   "source": [
    "split_data.drop(split_data[(split_data['deposit_amount_2014'] < (Q1 - 1.5 * IQR)) |(split_data['deposit_amount_2014'] > (Q3 + 1.5 * IQR)) == True].index,inplace = True)"
   ]
  },
  {
   "cell_type": "code",
   "execution_count": 24,
   "metadata": {},
   "outputs": [
    {
     "data": {
      "text/plain": [
       "(3195, 11)"
      ]
     },
     "execution_count": 24,
     "metadata": {},
     "output_type": "execute_result"
    }
   ],
   "source": [
    "split_data.shape"
   ]
  },
  {
   "cell_type": "code",
   "execution_count": 25,
   "metadata": {},
   "outputs": [
    {
     "name": "stdout",
     "output_type": "stream",
     "text": [
      "70086.0\n"
     ]
    }
   ],
   "source": [
    "Q1 = split_data['deposit_amount_2015'].quantile(0.25)\n",
    "Q3 = split_data['deposit_amount_2015'].quantile(0.75)\n",
    "IQR = Q3 - Q1\n",
    "print(IQR)"
   ]
  },
  {
   "cell_type": "code",
   "execution_count": 26,
   "metadata": {},
   "outputs": [],
   "source": [
    "split_data.drop(split_data[(split_data['deposit_amount_2015'] < (Q1 - 1.5 * IQR)) |(split_data['deposit_amount_2015'] > (Q3 + 1.5 * IQR)) == True].index,inplace = True)"
   ]
  },
  {
   "cell_type": "code",
   "execution_count": 27,
   "metadata": {},
   "outputs": [
    {
     "data": {
      "text/plain": [
       "(3166, 11)"
      ]
     },
     "execution_count": 27,
     "metadata": {},
     "output_type": "execute_result"
    }
   ],
   "source": [
    "split_data.shape"
   ]
  },
  {
   "cell_type": "code",
   "execution_count": 28,
   "metadata": {},
   "outputs": [
    {
     "name": "stdout",
     "output_type": "stream",
     "text": [
      "74391.375\n"
     ]
    }
   ],
   "source": [
    "Q1 = split_data['deposit_amount_2016'].quantile(0.25)\n",
    "Q3 = split_data['deposit_amount_2016'].quantile(0.75)\n",
    "IQR = Q3 - Q1\n",
    "print(IQR)"
   ]
  },
  {
   "cell_type": "code",
   "execution_count": 29,
   "metadata": {},
   "outputs": [],
   "source": [
    "split_data.drop(split_data[(split_data['deposit_amount_2016'] < (Q1 - 1.5 * IQR)) |(split_data['deposit_amount_2016'] > (Q3 + 1.5 * IQR)) == True].index,inplace = True)"
   ]
  },
  {
   "cell_type": "code",
   "execution_count": 30,
   "metadata": {},
   "outputs": [
    {
     "data": {
      "text/plain": [
       "(3143, 11)"
      ]
     },
     "execution_count": 30,
     "metadata": {},
     "output_type": "execute_result"
    }
   ],
   "source": [
    "split_data.shape"
   ]
  },
  {
   "cell_type": "code",
   "execution_count": 31,
   "metadata": {},
   "outputs": [
    {
     "name": "stdout",
     "output_type": "stream",
     "text": [
      "109904.625\n"
     ]
    }
   ],
   "source": [
    "Q1 = split_data['deposit_amount_2017'].quantile(0.25)\n",
    "Q3 = split_data['deposit_amount_2017'].quantile(0.75)\n",
    "IQR = Q3 - Q1\n",
    "print(IQR)"
   ]
  },
  {
   "cell_type": "code",
   "execution_count": 32,
   "metadata": {},
   "outputs": [],
   "source": [
    "split_data.drop(split_data[(split_data['deposit_amount_2017'] < (Q1 - 1.5 * IQR)) |(split_data['deposit_amount_2017'] > (Q3 + 1.5 * IQR)) == True].index,inplace = True)"
   ]
  },
  {
   "cell_type": "code",
   "execution_count": 33,
   "metadata": {},
   "outputs": [
    {
     "data": {
      "text/plain": [
       "(3136, 11)"
      ]
     },
     "execution_count": 33,
     "metadata": {},
     "output_type": "execute_result"
    }
   ],
   "source": [
    "split_data.shape"
   ]
  },
  {
   "cell_type": "markdown",
   "metadata": {},
   "source": [
    "## EDA"
   ]
  },
  {
   "cell_type": "code",
   "execution_count": 34,
   "metadata": {},
   "outputs": [],
   "source": [
    "data_eda = split_data"
   ]
  },
  {
   "cell_type": "code",
   "execution_count": 35,
   "metadata": {},
   "outputs": [],
   "source": [
    "# Calculating percentage chaneg below the deposits\n",
    "\n",
    "def percentage_change(first_no, second_no):\n",
    "    first_no = round(first_no)\n",
    "    second_no = round(second_no)\n",
    "    percent = (second_no - first_no) / first_no\n",
    "    percent = percent * 100\n",
    "    percent = round(percent, 2)\n",
    "    return percent \n",
    "\n",
    "a = data_eda['deposit_amount_2011']\n",
    "b = data_eda['deposit_amount_2012']\n",
    "c = data_eda['deposit_amount_2013']\n",
    "d = data_eda['deposit_amount_2014']\n",
    "e = data_eda['deposit_amount_2015']\n",
    "f = data_eda['deposit_amount_2016']\n",
    "\n",
    "pert2011_to_2012 = percentage_change(a,b)\n",
    "pert2012_to_2013 = percentage_change(b,c)\n",
    "pert2013_to_2014 = percentage_change(c,d)\n",
    "pert2014_to_2015 = percentage_change(d,e)\n",
    "pert2015_to_2016 = percentage_change(e,f)"
   ]
  },
  {
   "cell_type": "code",
   "execution_count": 36,
   "metadata": {},
   "outputs": [
    {
     "data": {
      "text/plain": [
       "0        12.14\n",
       "1         2.00\n",
       "2        14.76\n",
       "3         7.91\n",
       "4        12.52\n",
       "         ...  \n",
       "3763     75.59\n",
       "3764     19.20\n",
       "3766    157.41\n",
       "3767     12.50\n",
       "3771    -24.35\n",
       "Length: 3136, dtype: float64"
      ]
     },
     "execution_count": 36,
     "metadata": {},
     "output_type": "execute_result"
    }
   ],
   "source": [
    "pert2011_to_2012"
   ]
  },
  {
   "cell_type": "code",
   "execution_count": 37,
   "metadata": {},
   "outputs": [],
   "source": [
    "data_eda['change%2011_to_2012'] = pert2011_to_2012\n",
    "data_eda['change%2012_to_2013'] = pert2012_to_2013\n",
    "data_eda['change%2013_to_2014'] = pert2013_to_2014\n",
    "data_eda['change%2014_to_2015'] = pert2014_to_2015\n",
    "data_eda['change%2015_to_2016'] = pert2015_to_2016"
   ]
  },
  {
   "cell_type": "code",
   "execution_count": 38,
   "metadata": {},
   "outputs": [
    {
     "data": {
      "text/plain": [
       "location.Code           0\n",
       "location                0\n",
       "loc.details             0\n",
       "state                   0\n",
       "deposit_amount_2011     0\n",
       "deposit_amount_2012     0\n",
       "deposit_amount_2013     0\n",
       "deposit_amount_2014     0\n",
       "deposit_amount_2015     0\n",
       "deposit_amount_2016     0\n",
       "deposit_amount_2017     0\n",
       "change%2011_to_2012    58\n",
       "change%2012_to_2013    45\n",
       "change%2013_to_2014    48\n",
       "change%2014_to_2015    49\n",
       "change%2015_to_2016    48\n",
       "dtype: int64"
      ]
     },
     "execution_count": 38,
     "metadata": {},
     "output_type": "execute_result"
    }
   ],
   "source": [
    "data_eda.isnull().sum()"
   ]
  },
  {
   "cell_type": "code",
   "execution_count": 39,
   "metadata": {},
   "outputs": [],
   "source": [
    "#calculating the average growth rate between 2011 and 2016\n",
    "\n",
    "def avg_growth_rate(first,second,n):\n",
    "    rate = (second/first)\n",
    "    growth_rate = rate**(1/n)\n",
    "    growth_rate = growth_rate - 1\n",
    "    growth_rate = growth_rate * 100\n",
    "    return growth_rate\n",
    "\n",
    "a = data_eda['deposit_amount_2011']\n",
    "b = data_eda['deposit_amount_2016']\n",
    "\n",
    "grow2011_to_2016 = avg_growth_rate(a,b,5)"
   ]
  },
  {
   "cell_type": "code",
   "execution_count": 40,
   "metadata": {},
   "outputs": [],
   "source": [
    "data_eda['Overall_avg_growth_rate'] = grow2011_to_2016"
   ]
  },
  {
   "cell_type": "code",
   "execution_count": 41,
   "metadata": {},
   "outputs": [],
   "source": [
    "#getting average of all the deposits made\n",
    "\n",
    "def sma(a,b,c,d,e,f):\n",
    "    sma = a+b+c+d+e+f / 6\n",
    "    return sma\n",
    "\n",
    "a = data_eda['deposit_amount_2011']\n",
    "b = data_eda['deposit_amount_2012']\n",
    "c = data_eda['deposit_amount_2013']\n",
    "d = data_eda['deposit_amount_2014']\n",
    "e = data_eda['deposit_amount_2015']\n",
    "f = data_eda['deposit_amount_2016']\n",
    "\n",
    "data_eda['sma'] = sma(a,b,c,d,e,f)"
   ]
  },
  {
   "cell_type": "code",
   "execution_count": 42,
   "metadata": {},
   "outputs": [],
   "source": [
    "categorical_columns = [col for col in data_eda.columns.values if data_eda[col].dtype != 'object']\n",
    "\n",
    "a = data_eda[categorical_columns]"
   ]
  },
  {
   "cell_type": "code",
   "execution_count": 43,
   "metadata": {},
   "outputs": [
    {
     "data": {
      "image/png": "[encoded data removed]",
      "text/plain": [
       "<Figure size 1500x1500 with 2 Axes>"
      ]
     },
     "metadata": {},
     "output_type": "display_data"
    }
   ],
   "source": [
    "correlation = a.corr()\n",
    "plt.figure(figsize = (15, 15))\n",
    "sns.heatmap(correlation[(correlation >= 0.5) | (correlation <= -0.5)],\n",
    "            annot = True,linewidths = .1,linecolor = \"blue\",vmax = 1, vmin = -1)\n",
    "plt.title('Correlation between features', fontsize=15)\n",
    "plt.yticks(rotation = 0)\n",
    "plt.show()"
   ]
  },
  {
   "cell_type": "markdown",
   "metadata": {},
   "source": [
    "***The HIGHLY correlated values wii be REMOVED.***"
   ]
  },
  {
   "cell_type": "code",
   "execution_count": 44,
   "metadata": {},
   "outputs": [],
   "source": [
    "data_eda = data_eda.fillna(0)"
   ]
  },
  {
   "cell_type": "code",
   "execution_count": 45,
   "metadata": {},
   "outputs": [
    {
     "data": {
      "text/plain": [
       "location.Code               0\n",
       "location                    0\n",
       "loc.details                 0\n",
       "state                       0\n",
       "deposit_amount_2011         0\n",
       "deposit_amount_2012         0\n",
       "deposit_amount_2013         0\n",
       "deposit_amount_2014         0\n",
       "deposit_amount_2015         0\n",
       "deposit_amount_2016         0\n",
       "deposit_amount_2017         0\n",
       "change%2011_to_2012         3\n",
       "change%2012_to_2013        13\n",
       "change%2013_to_2014         0\n",
       "change%2014_to_2015         0\n",
       "change%2015_to_2016         1\n",
       "Overall_avg_growth_rate    15\n",
       "sma                         0\n",
       "dtype: int64"
      ]
     },
     "execution_count": 45,
     "metadata": {},
     "output_type": "execute_result"
    }
   ],
   "source": [
    "# Replacing infinite values with 'nan' and then replace it with 'zero'\n",
    "data_eda = data_eda.replace([np.inf, -np.inf], np.nan)\n",
    "data_eda.isnull().sum()"
   ]
  },
  {
   "cell_type": "code",
   "execution_count": 46,
   "metadata": {},
   "outputs": [],
   "source": [
    "data_eda = data_eda.fillna(0)"
   ]
  },
  {
   "cell_type": "code",
   "execution_count": 47,
   "metadata": {},
   "outputs": [
    {
     "data": {
      "text/plain": [
       "(3136, 18)"
      ]
     },
     "execution_count": 47,
     "metadata": {},
     "output_type": "execute_result"
    }
   ],
   "source": [
    "data_eda.shape"
   ]
  },
  {
   "cell_type": "code",
   "execution_count": 48,
   "metadata": {},
   "outputs": [
    {
     "data": {
      "text/html": [
       "<div>\n",
       "<style scoped>\n",
       "    .dataframe tbody tr th:only-of-type {\n",
       "        vertical-align: middle;\n",
       "    }\n",
       "\n",
       "    .dataframe tbody tr th {\n",
       "        vertical-align: top;\n",
       "    }\n",
       "\n",
       "    .dataframe thead th {\n",
       "        text-align: right;\n",
       "    }\n",
       "</style>\n",
       "<table border=\"1\" class=\"dataframe\">\n",
       "  <thead>\n",
       "    <tr style=\"text-align: right;\">\n",
       "      <th></th>\n",
       "      <th>location.Code</th>\n",
       "      <th>location</th>\n",
       "      <th>loc.details</th>\n",
       "      <th>state</th>\n",
       "      <th>deposit_amount_2011</th>\n",
       "      <th>deposit_amount_2012</th>\n",
       "      <th>deposit_amount_2013</th>\n",
       "      <th>deposit_amount_2014</th>\n",
       "      <th>deposit_amount_2015</th>\n",
       "      <th>deposit_amount_2016</th>\n",
       "      <th>deposit_amount_2017</th>\n",
       "      <th>change%2011_to_2012</th>\n",
       "      <th>change%2012_to_2013</th>\n",
       "      <th>change%2013_to_2014</th>\n",
       "      <th>change%2014_to_2015</th>\n",
       "      <th>change%2015_to_2016</th>\n",
       "      <th>Overall_avg_growth_rate</th>\n",
       "      <th>sma</th>\n",
       "    </tr>\n",
       "  </thead>\n",
       "  <tbody>\n",
       "    <tr>\n",
       "      <th>0</th>\n",
       "      <td>2871</td>\n",
       "      <td>Wales</td>\n",
       "      <td>Waukesha</td>\n",
       "      <td>WI</td>\n",
       "      <td>32079.0</td>\n",
       "      <td>35971.5</td>\n",
       "      <td>37237.5</td>\n",
       "      <td>40362.0</td>\n",
       "      <td>46021.5</td>\n",
       "      <td>46020.0</td>\n",
       "      <td>69030.00</td>\n",
       "      <td>12.14</td>\n",
       "      <td>3.52</td>\n",
       "      <td>8.39</td>\n",
       "      <td>14.02</td>\n",
       "      <td>-0.00</td>\n",
       "      <td>7.484331</td>\n",
       "      <td>199341.50</td>\n",
       "    </tr>\n",
       "    <tr>\n",
       "      <th>1</th>\n",
       "      <td>2872</td>\n",
       "      <td>Germantown</td>\n",
       "      <td>Washington</td>\n",
       "      <td>WI</td>\n",
       "      <td>83181.0</td>\n",
       "      <td>84846.0</td>\n",
       "      <td>97098.0</td>\n",
       "      <td>110284.5</td>\n",
       "      <td>122035.5</td>\n",
       "      <td>133905.0</td>\n",
       "      <td>200857.50</td>\n",
       "      <td>2.00</td>\n",
       "      <td>14.44</td>\n",
       "      <td>13.58</td>\n",
       "      <td>10.66</td>\n",
       "      <td>9.73</td>\n",
       "      <td>9.990337</td>\n",
       "      <td>519762.50</td>\n",
       "    </tr>\n",
       "    <tr>\n",
       "      <th>2</th>\n",
       "      <td>2873</td>\n",
       "      <td>Brookfield</td>\n",
       "      <td>Waukesha</td>\n",
       "      <td>WI</td>\n",
       "      <td>136323.0</td>\n",
       "      <td>156450.0</td>\n",
       "      <td>187557.0</td>\n",
       "      <td>188859.0</td>\n",
       "      <td>198751.5</td>\n",
       "      <td>206044.5</td>\n",
       "      <td>309066.75</td>\n",
       "      <td>14.76</td>\n",
       "      <td>19.88</td>\n",
       "      <td>0.69</td>\n",
       "      <td>5.24</td>\n",
       "      <td>3.67</td>\n",
       "      <td>8.612142</td>\n",
       "      <td>902281.25</td>\n",
       "    </tr>\n",
       "    <tr>\n",
       "      <th>3</th>\n",
       "      <td>2874</td>\n",
       "      <td>Pewaukee</td>\n",
       "      <td>Waukesha</td>\n",
       "      <td>WI</td>\n",
       "      <td>68511.0</td>\n",
       "      <td>73932.0</td>\n",
       "      <td>79876.5</td>\n",
       "      <td>105603.0</td>\n",
       "      <td>112113.0</td>\n",
       "      <td>110755.5</td>\n",
       "      <td>166133.25</td>\n",
       "      <td>7.91</td>\n",
       "      <td>8.04</td>\n",
       "      <td>32.21</td>\n",
       "      <td>6.16</td>\n",
       "      <td>-1.21</td>\n",
       "      <td>10.083188</td>\n",
       "      <td>458494.75</td>\n",
       "    </tr>\n",
       "    <tr>\n",
       "      <th>4</th>\n",
       "      <td>2875</td>\n",
       "      <td>Waukesha</td>\n",
       "      <td>Waukesha</td>\n",
       "      <td>WI</td>\n",
       "      <td>96271.5</td>\n",
       "      <td>108325.5</td>\n",
       "      <td>104880.0</td>\n",
       "      <td>121054.5</td>\n",
       "      <td>113956.5</td>\n",
       "      <td>109837.5</td>\n",
       "      <td>164756.25</td>\n",
       "      <td>12.52</td>\n",
       "      <td>-3.18</td>\n",
       "      <td>15.42</td>\n",
       "      <td>-5.86</td>\n",
       "      <td>-3.61</td>\n",
       "      <td>2.671659</td>\n",
       "      <td>562794.25</td>\n",
       "    </tr>\n",
       "  </tbody>\n",
       "</table>\n",
       "</div>"
      ],
      "text/plain": [
       "   location.Code    location loc.details state  deposit_amount_2011  \\\n",
       "0           2871       Wales    Waukesha    WI              32079.0   \n",
       "1           2872  Germantown  Washington    WI              83181.0   \n",
       "2           2873  Brookfield    Waukesha    WI             136323.0   \n",
       "3           2874    Pewaukee    Waukesha    WI              68511.0   \n",
       "4           2875    Waukesha    Waukesha    WI              96271.5   \n",
       "\n",
       "   deposit_amount_2012  deposit_amount_2013  deposit_amount_2014  \\\n",
       "0              35971.5              37237.5              40362.0   \n",
       "1              84846.0              97098.0             110284.5   \n",
       "2             156450.0             187557.0             188859.0   \n",
       "3              73932.0              79876.5             105603.0   \n",
       "4             108325.5             104880.0             121054.5   \n",
       "\n",
       "   deposit_amount_2015  deposit_amount_2016  deposit_amount_2017  \\\n",
       "0              46021.5              46020.0             69030.00   \n",
       "1             122035.5             133905.0            200857.50   \n",
       "2             198751.5             206044.5            309066.75   \n",
       "3             112113.0             110755.5            166133.25   \n",
       "4             113956.5             109837.5            164756.25   \n",
       "\n",
       "   change%2011_to_2012  change%2012_to_2013  change%2013_to_2014  \\\n",
       "0                12.14                 3.52                 8.39   \n",
       "1                 2.00                14.44                13.58   \n",
       "2                14.76                19.88                 0.69   \n",
       "3                 7.91                 8.04                32.21   \n",
       "4                12.52                -3.18                15.42   \n",
       "\n",
       "   change%2014_to_2015  change%2015_to_2016  Overall_avg_growth_rate  \\\n",
       "0                14.02                -0.00                 7.484331   \n",
       "1                10.66                 9.73                 9.990337   \n",
       "2                 5.24                 3.67                 8.612142   \n",
       "3                 6.16                -1.21                10.083188   \n",
       "4                -5.86                -3.61                 2.671659   \n",
       "\n",
       "         sma  \n",
       "0  199341.50  \n",
       "1  519762.50  \n",
       "2  902281.25  \n",
       "3  458494.75  \n",
       "4  562794.25  "
      ]
     },
     "execution_count": 48,
     "metadata": {},
     "output_type": "execute_result"
    }
   ],
   "source": [
    "data_eda.head()"
   ]
  },
  {
   "cell_type": "code",
   "execution_count": 49,
   "metadata": {},
   "outputs": [],
   "source": [
    "data_cat_dummies = pd.merge(data_eda, train_cat, how = 'inner', left_on = ['location.Code'], right_on = ['location.Code'])"
   ]
  },
  {
   "cell_type": "code",
   "execution_count": 50,
   "metadata": {},
   "outputs": [],
   "source": [
    "data_cat_dummies = data_cat_dummies.drop(['location', 'loc.details', 'state'], axis = 1)"
   ]
  },
  {
   "cell_type": "code",
   "execution_count": 51,
   "metadata": {},
   "outputs": [
    {
     "data": {
      "text/html": [
       "<div>\n",
       "<style scoped>\n",
       "    .dataframe tbody tr th:only-of-type {\n",
       "        vertical-align: middle;\n",
       "    }\n",
       "\n",
       "    .dataframe tbody tr th {\n",
       "        vertical-align: top;\n",
       "    }\n",
       "\n",
       "    .dataframe thead th {\n",
       "        text-align: right;\n",
       "    }\n",
       "</style>\n",
       "<table border=\"1\" class=\"dataframe\">\n",
       "  <thead>\n",
       "    <tr style=\"text-align: right;\">\n",
       "      <th></th>\n",
       "      <th>location.Code</th>\n",
       "      <th>deposit_amount_2011</th>\n",
       "      <th>deposit_amount_2012</th>\n",
       "      <th>deposit_amount_2013</th>\n",
       "      <th>deposit_amount_2014</th>\n",
       "      <th>deposit_amount_2015</th>\n",
       "      <th>deposit_amount_2016</th>\n",
       "      <th>deposit_amount_2017</th>\n",
       "      <th>change%2011_to_2012</th>\n",
       "      <th>change%2012_to_2013</th>\n",
       "      <th>...</th>\n",
       "      <th>state_NY</th>\n",
       "      <th>state_OH</th>\n",
       "      <th>state_OK</th>\n",
       "      <th>state_OR</th>\n",
       "      <th>state_PA</th>\n",
       "      <th>state_TX</th>\n",
       "      <th>state_UT</th>\n",
       "      <th>state_WA</th>\n",
       "      <th>state_WI</th>\n",
       "      <th>state_WV</th>\n",
       "    </tr>\n",
       "  </thead>\n",
       "  <tbody>\n",
       "    <tr>\n",
       "      <th>0</th>\n",
       "      <td>2871</td>\n",
       "      <td>32079.0</td>\n",
       "      <td>35971.5</td>\n",
       "      <td>37237.5</td>\n",
       "      <td>40362.0</td>\n",
       "      <td>46021.5</td>\n",
       "      <td>46020.0</td>\n",
       "      <td>69030.00</td>\n",
       "      <td>12.14</td>\n",
       "      <td>3.52</td>\n",
       "      <td>...</td>\n",
       "      <td>0</td>\n",
       "      <td>0</td>\n",
       "      <td>0</td>\n",
       "      <td>0</td>\n",
       "      <td>0</td>\n",
       "      <td>0</td>\n",
       "      <td>0</td>\n",
       "      <td>0</td>\n",
       "      <td>1</td>\n",
       "      <td>0</td>\n",
       "    </tr>\n",
       "    <tr>\n",
       "      <th>1</th>\n",
       "      <td>2872</td>\n",
       "      <td>83181.0</td>\n",
       "      <td>84846.0</td>\n",
       "      <td>97098.0</td>\n",
       "      <td>110284.5</td>\n",
       "      <td>122035.5</td>\n",
       "      <td>133905.0</td>\n",
       "      <td>200857.50</td>\n",
       "      <td>2.00</td>\n",
       "      <td>14.44</td>\n",
       "      <td>...</td>\n",
       "      <td>0</td>\n",
       "      <td>0</td>\n",
       "      <td>0</td>\n",
       "      <td>0</td>\n",
       "      <td>0</td>\n",
       "      <td>0</td>\n",
       "      <td>0</td>\n",
       "      <td>0</td>\n",
       "      <td>1</td>\n",
       "      <td>0</td>\n",
       "    </tr>\n",
       "    <tr>\n",
       "      <th>2</th>\n",
       "      <td>2873</td>\n",
       "      <td>136323.0</td>\n",
       "      <td>156450.0</td>\n",
       "      <td>187557.0</td>\n",
       "      <td>188859.0</td>\n",
       "      <td>198751.5</td>\n",
       "      <td>206044.5</td>\n",
       "      <td>309066.75</td>\n",
       "      <td>14.76</td>\n",
       "      <td>19.88</td>\n",
       "      <td>...</td>\n",
       "      <td>0</td>\n",
       "      <td>0</td>\n",
       "      <td>0</td>\n",
       "      <td>0</td>\n",
       "      <td>0</td>\n",
       "      <td>0</td>\n",
       "      <td>0</td>\n",
       "      <td>0</td>\n",
       "      <td>1</td>\n",
       "      <td>0</td>\n",
       "    </tr>\n",
       "    <tr>\n",
       "      <th>3</th>\n",
       "      <td>2874</td>\n",
       "      <td>68511.0</td>\n",
       "      <td>73932.0</td>\n",
       "      <td>79876.5</td>\n",
       "      <td>105603.0</td>\n",
       "      <td>112113.0</td>\n",
       "      <td>110755.5</td>\n",
       "      <td>166133.25</td>\n",
       "      <td>7.91</td>\n",
       "      <td>8.04</td>\n",
       "      <td>...</td>\n",
       "      <td>0</td>\n",
       "      <td>0</td>\n",
       "      <td>0</td>\n",
       "      <td>0</td>\n",
       "      <td>0</td>\n",
       "      <td>0</td>\n",
       "      <td>0</td>\n",
       "      <td>0</td>\n",
       "      <td>1</td>\n",
       "      <td>0</td>\n",
       "    </tr>\n",
       "    <tr>\n",
       "      <th>4</th>\n",
       "      <td>2875</td>\n",
       "      <td>96271.5</td>\n",
       "      <td>108325.5</td>\n",
       "      <td>104880.0</td>\n",
       "      <td>121054.5</td>\n",
       "      <td>113956.5</td>\n",
       "      <td>109837.5</td>\n",
       "      <td>164756.25</td>\n",
       "      <td>12.52</td>\n",
       "      <td>-3.18</td>\n",
       "      <td>...</td>\n",
       "      <td>0</td>\n",
       "      <td>0</td>\n",
       "      <td>0</td>\n",
       "      <td>0</td>\n",
       "      <td>0</td>\n",
       "      <td>0</td>\n",
       "      <td>0</td>\n",
       "      <td>0</td>\n",
       "      <td>1</td>\n",
       "      <td>0</td>\n",
       "    </tr>\n",
       "  </tbody>\n",
       "</table>\n",
       "<p>5 rows × 2297 columns</p>\n",
       "</div>"
      ],
      "text/plain": [
       "   location.Code  deposit_amount_2011  deposit_amount_2012  \\\n",
       "0           2871              32079.0              35971.5   \n",
       "1           2872              83181.0              84846.0   \n",
       "2           2873             136323.0             156450.0   \n",
       "3           2874              68511.0              73932.0   \n",
       "4           2875              96271.5             108325.5   \n",
       "\n",
       "   deposit_amount_2013  deposit_amount_2014  deposit_amount_2015  \\\n",
       "0              37237.5              40362.0              46021.5   \n",
       "1              97098.0             110284.5             122035.5   \n",
       "2             187557.0             188859.0             198751.5   \n",
       "3              79876.5             105603.0             112113.0   \n",
       "4             104880.0             121054.5             113956.5   \n",
       "\n",
       "   deposit_amount_2016  deposit_amount_2017  change%2011_to_2012  \\\n",
       "0              46020.0             69030.00                12.14   \n",
       "1             133905.0            200857.50                 2.00   \n",
       "2             206044.5            309066.75                14.76   \n",
       "3             110755.5            166133.25                 7.91   \n",
       "4             109837.5            164756.25                12.52   \n",
       "\n",
       "   change%2012_to_2013  ...  state_NY  state_OH  state_OK  state_OR  state_PA  \\\n",
       "0                 3.52  ...         0         0         0         0         0   \n",
       "1                14.44  ...         0         0         0         0         0   \n",
       "2                19.88  ...         0         0         0         0         0   \n",
       "3                 8.04  ...         0         0         0         0         0   \n",
       "4                -3.18  ...         0         0         0         0         0   \n",
       "\n",
       "   state_TX  state_UT  state_WA  state_WI  state_WV  \n",
       "0         0         0         0         1         0  \n",
       "1         0         0         0         1         0  \n",
       "2         0         0         0         1         0  \n",
       "3         0         0         0         1         0  \n",
       "4         0         0         0         1         0  \n",
       "\n",
       "[5 rows x 2297 columns]"
      ]
     },
     "execution_count": 51,
     "metadata": {},
     "output_type": "execute_result"
    }
   ],
   "source": [
    "data_cat_dummies.head()"
   ]
  },
  {
   "cell_type": "code",
   "execution_count": 52,
   "metadata": {},
   "outputs": [
    {
     "data": {
      "text/plain": [
       "location.Code          0\n",
       "deposit_amount_2011    0\n",
       "deposit_amount_2012    0\n",
       "deposit_amount_2013    0\n",
       "deposit_amount_2014    0\n",
       "                      ..\n",
       "state_TX               0\n",
       "state_UT               0\n",
       "state_WA               0\n",
       "state_WI               0\n",
       "state_WV               0\n",
       "Length: 2297, dtype: int64"
      ]
     },
     "execution_count": 52,
     "metadata": {},
     "output_type": "execute_result"
    }
   ],
   "source": [
    "data_cat_dummies.isnull().sum()"
   ]
  },
  {
   "cell_type": "code",
   "execution_count": 53,
   "metadata": {},
   "outputs": [],
   "source": [
    "new_data = data_cat_dummies"
   ]
  },
  {
   "cell_type": "code",
   "execution_count": 54,
   "metadata": {},
   "outputs": [],
   "source": [
    "target = new_data['deposit_amount_2017']"
   ]
  },
  {
   "cell_type": "code",
   "execution_count": 55,
   "metadata": {},
   "outputs": [],
   "source": [
    "# Removing the highly correlated values\n",
    "data = new_data.drop(['deposit_amount_2017', 'deposit_amount_2016', 'deposit_amount_2015', 'deposit_amount_2014',\n",
    "                     'deposit_amount_2013', 'deposit_amount_2012', 'deposit_amount_2011'], axis = 1)"
   ]
  },
  {
   "cell_type": "code",
   "execution_count": 56,
   "metadata": {},
   "outputs": [
    {
     "data": {
      "text/plain": [
       "(3136, 2290)"
      ]
     },
     "execution_count": 56,
     "metadata": {},
     "output_type": "execute_result"
    }
   ],
   "source": [
    "data.shape"
   ]
  },
  {
   "cell_type": "code",
   "execution_count": 57,
   "metadata": {},
   "outputs": [
    {
     "data": {
      "text/plain": [
       "Index(['location.Code', 'change%2011_to_2012', 'change%2012_to_2013',\n",
       "       'change%2013_to_2014', 'change%2014_to_2015', 'change%2015_to_2016',\n",
       "       'Overall_avg_growth_rate', 'sma', 'location_Abbeville',\n",
       "       'location_Aberdeen',\n",
       "       ...\n",
       "       'state_NY', 'state_OH', 'state_OK', 'state_OR', 'state_PA', 'state_TX',\n",
       "       'state_UT', 'state_WA', 'state_WI', 'state_WV'],\n",
       "      dtype='object', length=2290)"
      ]
     },
     "execution_count": 57,
     "metadata": {},
     "output_type": "execute_result"
    }
   ],
   "source": [
    "data.columns"
   ]
  },
  {
   "cell_type": "code",
   "execution_count": 58,
   "metadata": {},
   "outputs": [
    {
     "name": "stdout",
     "output_type": "stream",
     "text": [
      "x_train  (2195, 2290)\n",
      "x_test  (941, 2290)\n",
      "y_train  (2195,)\n",
      "y_test  (941,)\n"
     ]
    }
   ],
   "source": [
    "from sklearn.model_selection import train_test_split\n",
    "x_train, x_test, y_train, y_test = train_test_split(data, target, test_size = 0.30, random_state = 1)\n",
    "print(\"x_train \", x_train.shape)\n",
    "print(\"x_test \", x_test.shape)\n",
    "print(\"y_train \", y_train.shape)\n",
    "print(\"y_test \", y_test.shape)"
   ]
  },
  {
   "cell_type": "code",
   "execution_count": 59,
   "metadata": {},
   "outputs": [],
   "source": [
    "# Linear Regression Model using StatsModel\n",
    "import statsmodels.api as sm\n",
    "\n",
    "# Building Linear Regression Model using OLS (Ordinary Least Squares)\n",
    "model1 = sm.OLS(y_train, x_train).fit()"
   ]
  },
  {
   "cell_type": "code",
   "execution_count": 60,
   "metadata": {},
   "outputs": [],
   "source": [
    "def rmse(predictions, targets):\n",
    "    differences = predictions - targets                     \n",
    "    differences_squared = differences ** 2                  \n",
    "    mean_of_differences_squared = differences_squared.mean() \n",
    "    rmse_val = np.sqrt(mean_of_differences_squared)         \n",
    "    return rmse_val\n",
    "\n",
    "cols = ['Model', 'R-Squared Value', 'Adj.R-Squared Value', 'RMSE']\n",
    "models_report = pd.DataFrame(columns = cols)\n",
    "\n",
    "#Predicting the model on Test Data\n",
    "predictions1 = model1.predict(x_test)"
   ]
  },
  {
   "cell_type": "code",
   "execution_count": 61,
   "metadata": {},
   "outputs": [
    {
     "data": {
      "text/html": [
       "<div>\n",
       "<style scoped>\n",
       "    .dataframe tbody tr th:only-of-type {\n",
       "        vertical-align: middle;\n",
       "    }\n",
       "\n",
       "    .dataframe tbody tr th {\n",
       "        vertical-align: top;\n",
       "    }\n",
       "\n",
       "    .dataframe thead th {\n",
       "        text-align: right;\n",
       "    }\n",
       "</style>\n",
       "<table border=\"1\" class=\"dataframe\">\n",
       "  <thead>\n",
       "    <tr style=\"text-align: right;\">\n",
       "      <th></th>\n",
       "      <th>Model</th>\n",
       "      <th>R-Squared Value</th>\n",
       "      <th>Adj.R-Squared Value</th>\n",
       "      <th>RMSE</th>\n",
       "    </tr>\n",
       "  </thead>\n",
       "  <tbody>\n",
       "    <tr>\n",
       "      <th>0</th>\n",
       "      <td>Base Linear Regression Model</td>\n",
       "      <td>0.952409</td>\n",
       "      <td>0.90669</td>\n",
       "      <td>23913.175486</td>\n",
       "    </tr>\n",
       "  </tbody>\n",
       "</table>\n",
       "</div>"
      ],
      "text/plain": [
       "                          Model  R-Squared Value  Adj.R-Squared Value  \\\n",
       "0  Base Linear Regression Model         0.952409              0.90669   \n",
       "\n",
       "           RMSE  \n",
       "0  23913.175486  "
      ]
     },
     "execution_count": 61,
     "metadata": {},
     "output_type": "execute_result"
    }
   ],
   "source": [
    "tmp1 = pd.Series({'Model': \"Base Linear Regression Model\",\n",
    "                  'R-Squared Value': model1.rsquared,\n",
    "                  'Adj.R-Squared Value': model1.rsquared_adj,\n",
    "                  'RMSE': rmse(predictions1, y_test)})\n",
    "\n",
    "model1_report = models_report.append(tmp1, ignore_index = True)\n",
    "model1_report"
   ]
  },
  {
   "cell_type": "code",
   "execution_count": 62,
   "metadata": {},
   "outputs": [
    {
     "data": {
      "text/plain": [
       "23913.175485941734"
      ]
     },
     "execution_count": 62,
     "metadata": {},
     "output_type": "execute_result"
    }
   ],
   "source": [
    "from sklearn.metrics import r2_score, mean_squared_error, accuracy_score\n",
    "mse = mean_squared_error(y_test, predictions1)\n",
    "rmse = np.sqrt(mse)\n",
    "rmse"
   ]
  },
  {
   "cell_type": "markdown",
   "metadata": {},
   "source": [
    "## PERFORMING SAME OPERATION IN TEST AND PREPARING THE SUBMISSION FILE"
   ]
  },
  {
   "cell_type": "code",
   "execution_count": 63,
   "metadata": {},
   "outputs": [
    {
     "data": {
      "text/html": [
       "<div>\n",
       "<style scoped>\n",
       "    .dataframe tbody tr th:only-of-type {\n",
       "        vertical-align: middle;\n",
       "    }\n",
       "\n",
       "    .dataframe tbody tr th {\n",
       "        vertical-align: top;\n",
       "    }\n",
       "\n",
       "    .dataframe thead th {\n",
       "        text-align: right;\n",
       "    }\n",
       "</style>\n",
       "<table border=\"1\" class=\"dataframe\">\n",
       "  <thead>\n",
       "    <tr style=\"text-align: right;\">\n",
       "      <th></th>\n",
       "      <th>id</th>\n",
       "      <th>headquarter</th>\n",
       "      <th>location.Code</th>\n",
       "      <th>date_of_establishment</th>\n",
       "      <th>location</th>\n",
       "      <th>loc.details</th>\n",
       "      <th>state</th>\n",
       "      <th>deposit_amount_2011</th>\n",
       "      <th>deposit_amount_2012</th>\n",
       "      <th>deposit_amount_2013</th>\n",
       "      <th>deposit_amount_2014</th>\n",
       "      <th>deposit_amount_2015</th>\n",
       "      <th>deposit_amount_2016</th>\n",
       "    </tr>\n",
       "  </thead>\n",
       "  <tbody>\n",
       "    <tr>\n",
       "      <th>0</th>\n",
       "      <td>1</td>\n",
       "      <td>1</td>\n",
       "      <td>5</td>\n",
       "      <td>1824-12-31</td>\n",
       "      <td>Columbus</td>\n",
       "      <td>Delaware</td>\n",
       "      <td>OH</td>\n",
       "      <td>949696500.0</td>\n",
       "      <td>1.114902e+09</td>\n",
       "      <td>1.248682e+09</td>\n",
       "      <td>1.374814e+09</td>\n",
       "      <td>1.548824e+09</td>\n",
       "      <td>1.604138e+09</td>\n",
       "    </tr>\n",
       "    <tr>\n",
       "      <th>1</th>\n",
       "      <td>2</td>\n",
       "      <td>0</td>\n",
       "      <td>7</td>\n",
       "      <td>NaN</td>\n",
       "      <td>Scarsdale</td>\n",
       "      <td>Westchester</td>\n",
       "      <td>NY</td>\n",
       "      <td>439843.5</td>\n",
       "      <td>4.661865e+05</td>\n",
       "      <td>4.886130e+05</td>\n",
       "      <td>4.918950e+05</td>\n",
       "      <td>4.916880e+05</td>\n",
       "      <td>5.122125e+05</td>\n",
       "    </tr>\n",
       "    <tr>\n",
       "      <th>2</th>\n",
       "      <td>3</td>\n",
       "      <td>0</td>\n",
       "      <td>8</td>\n",
       "      <td>08-09-1964</td>\n",
       "      <td>Great Neck</td>\n",
       "      <td>Nassau</td>\n",
       "      <td>NY</td>\n",
       "      <td>286516.5</td>\n",
       "      <td>3.103995e+05</td>\n",
       "      <td>3.246585e+05</td>\n",
       "      <td>3.569745e+05</td>\n",
       "      <td>3.512745e+05</td>\n",
       "      <td>3.936825e+05</td>\n",
       "    </tr>\n",
       "    <tr>\n",
       "      <th>3</th>\n",
       "      <td>4</td>\n",
       "      <td>0</td>\n",
       "      <td>9</td>\n",
       "      <td>NaN</td>\n",
       "      <td>Hartsdale</td>\n",
       "      <td>Westchester</td>\n",
       "      <td>NY</td>\n",
       "      <td>130665.0</td>\n",
       "      <td>1.325505e+05</td>\n",
       "      <td>1.397445e+05</td>\n",
       "      <td>1.644885e+05</td>\n",
       "      <td>1.679775e+05</td>\n",
       "      <td>1.751580e+05</td>\n",
       "    </tr>\n",
       "    <tr>\n",
       "      <th>4</th>\n",
       "      <td>5</td>\n",
       "      <td>0</td>\n",
       "      <td>10</td>\n",
       "      <td>NaN</td>\n",
       "      <td>Lawrence</td>\n",
       "      <td>Nassau</td>\n",
       "      <td>NY</td>\n",
       "      <td>258912.0</td>\n",
       "      <td>2.591235e+05</td>\n",
       "      <td>2.841195e+05</td>\n",
       "      <td>2.976675e+05</td>\n",
       "      <td>3.077970e+05</td>\n",
       "      <td>3.348000e+05</td>\n",
       "    </tr>\n",
       "  </tbody>\n",
       "</table>\n",
       "</div>"
      ],
      "text/plain": [
       "   id  headquarter  location.Code date_of_establishment    location  \\\n",
       "0   1            1              5            1824-12-31    Columbus   \n",
       "1   2            0              7                   NaN   Scarsdale   \n",
       "2   3            0              8            08-09-1964  Great Neck   \n",
       "3   4            0              9                   NaN   Hartsdale   \n",
       "4   5            0             10                   NaN    Lawrence   \n",
       "\n",
       "   loc.details state  deposit_amount_2011  deposit_amount_2012  \\\n",
       "0     Delaware    OH          949696500.0         1.114902e+09   \n",
       "1  Westchester    NY             439843.5         4.661865e+05   \n",
       "2       Nassau    NY             286516.5         3.103995e+05   \n",
       "3  Westchester    NY             130665.0         1.325505e+05   \n",
       "4       Nassau    NY             258912.0         2.591235e+05   \n",
       "\n",
       "   deposit_amount_2013  deposit_amount_2014  deposit_amount_2015  \\\n",
       "0         1.248682e+09         1.374814e+09         1.548824e+09   \n",
       "1         4.886130e+05         4.918950e+05         4.916880e+05   \n",
       "2         3.246585e+05         3.569745e+05         3.512745e+05   \n",
       "3         1.397445e+05         1.644885e+05         1.679775e+05   \n",
       "4         2.841195e+05         2.976675e+05         3.077970e+05   \n",
       "\n",
       "   deposit_amount_2016  \n",
       "0         1.604138e+09  \n",
       "1         5.122125e+05  \n",
       "2         3.936825e+05  \n",
       "3         1.751580e+05  \n",
       "4         3.348000e+05  "
      ]
     },
     "execution_count": 63,
     "metadata": {},
     "output_type": "execute_result"
    }
   ],
   "source": [
    "filename = os.path.join(os.getcwd(), 'test_hackathon.csv')\n",
    "test = pd.read_csv(filename)\n",
    "test.head()"
   ]
  },
  {
   "cell_type": "code",
   "execution_count": 64,
   "metadata": {},
   "outputs": [],
   "source": [
    "test = test[['location.Code', 'location', 'loc.details', 'state', 'deposit_amount_2011', 'deposit_amount_2012', \n",
    "             'deposit_amount_2013', 'deposit_amount_2014', 'deposit_amount_2015', 'deposit_amount_2016']]\n"
   ]
  },
  {
   "cell_type": "code",
   "execution_count": 65,
   "metadata": {},
   "outputs": [],
   "source": [
    "data_eda = test"
   ]
  },
  {
   "cell_type": "code",
   "execution_count": 66,
   "metadata": {},
   "outputs": [],
   "source": [
    "def percentage_change(first_no,second_no):\n",
    "    first_no = round(first_no)\n",
    "    second_no = round(second_no)\n",
    "    percent = (second_no - first_no) / first_no\n",
    "    percent = percent * 100\n",
    "    percent = round(percent,2)\n",
    "    return percent\n",
    "\n",
    "a = data_eda['deposit_amount_2011']\n",
    "b = data_eda['deposit_amount_2012']\n",
    "c = data_eda['deposit_amount_2013']\n",
    "d = data_eda['deposit_amount_2014']\n",
    "e = data_eda['deposit_amount_2015']\n",
    "f = data_eda['deposit_amount_2016']\n",
    "\n",
    "pert2011_to_2012 = percentage_change(a,b)\n",
    "pert2012_to_2013 = percentage_change(b,c)\n",
    "pert2013_to_2014 = percentage_change(c,d)\n",
    "pert2014_to_2015 = percentage_change(d,e)\n",
    "pert2015_to_2016 = percentage_change(e,f)"
   ]
  },
  {
   "cell_type": "code",
   "execution_count": 67,
   "metadata": {},
   "outputs": [],
   "source": [
    "data_eda['change%2011_to_2012'] = pert2011_to_2012\n",
    "data_eda['change%2012_to_2013'] = pert2012_to_2013\n",
    "data_eda['change%2013_to_2014'] = pert2013_to_2014\n",
    "data_eda['change%2014_to_2015'] = pert2014_to_2015\n",
    "data_eda['change%2015_to_2016'] = pert2015_to_2016"
   ]
  },
  {
   "cell_type": "code",
   "execution_count": 68,
   "metadata": {},
   "outputs": [],
   "source": [
    "def avg_growth_rate(first, second, n):\n",
    "    rate = (second / first)\n",
    "    growth_rate = rate ** (1/n)\n",
    "    growth_rate = growth_rate - 1\n",
    "    growth_rate = growth_rate * 100\n",
    "    return growth_rate\n",
    "\n",
    "a = data_eda['deposit_amount_2011']\n",
    "b = data_eda['deposit_amount_2016']\n",
    "\n",
    "grow2011_to_2016 = avg_growth_rate(a, b, 5)"
   ]
  },
  {
   "cell_type": "code",
   "execution_count": 69,
   "metadata": {},
   "outputs": [],
   "source": [
    "data_eda['Overall_avg_growth_rate'] = grow2011_to_2016"
   ]
  },
  {
   "cell_type": "code",
   "execution_count": 70,
   "metadata": {},
   "outputs": [],
   "source": [
    "def sma(a,b,c,d,e,f):\n",
    "    sma = a+b+c+d+e+f / 6\n",
    "    return sma\n",
    "\n",
    "a = data_eda['deposit_amount_2011']\n",
    "b = data_eda['deposit_amount_2012']\n",
    "c = data_eda['deposit_amount_2013']\n",
    "d = data_eda['deposit_amount_2014']\n",
    "e = data_eda['deposit_amount_2015']\n",
    "f = data_eda['deposit_amount_2016']\n",
    "\n",
    "data_eda['sma'] = sma(a,b,c,d,e,f)\n"
   ]
  },
  {
   "cell_type": "code",
   "execution_count": 71,
   "metadata": {},
   "outputs": [],
   "source": [
    "data_eda = data_eda.fillna(0)"
   ]
  },
  {
   "cell_type": "code",
   "execution_count": 72,
   "metadata": {},
   "outputs": [],
   "source": [
    "data_eda = data_eda.replace([np.inf, -np.inf], np.nan)"
   ]
  },
  {
   "cell_type": "code",
   "execution_count": 73,
   "metadata": {},
   "outputs": [],
   "source": [
    "data_cat_dummies = pd.merge(data_eda, test_cat, how = 'inner', left_on = ['location.Code'], right_on = ['location.Code'])"
   ]
  },
  {
   "cell_type": "code",
   "execution_count": 74,
   "metadata": {},
   "outputs": [],
   "source": [
    "data_cat_dummies = data_cat_dummies.drop(['location', 'loc.details', 'state'], axis = 1)"
   ]
  },
  {
   "cell_type": "code",
   "execution_count": 75,
   "metadata": {},
   "outputs": [],
   "source": [
    "new_data = data_cat_dummies"
   ]
  },
  {
   "cell_type": "code",
   "execution_count": 76,
   "metadata": {},
   "outputs": [],
   "source": [
    "data = new_data.drop(['deposit_amount_2011', 'deposit_amount_2012', 'deposit_amount_2013',\n",
    "                 'deposit_amount_2014', 'deposit_amount_2015', 'deposit_amount_2016'], axis = 1)"
   ]
  },
  {
   "cell_type": "code",
   "execution_count": 77,
   "metadata": {},
   "outputs": [],
   "source": [
    "prediction = model1.predict(data)"
   ]
  },
  {
   "cell_type": "code",
   "execution_count": 78,
   "metadata": {},
   "outputs": [
    {
     "data": {
      "text/plain": [
       "0       2.249757e+09\n",
       "1       8.705533e+05\n",
       "2       6.274371e+05\n",
       "3       3.032163e+05\n",
       "4       5.197718e+05\n",
       "            ...     \n",
       "1618    2.673985e+05\n",
       "1619    2.339209e+05\n",
       "1620    2.050135e+05\n",
       "1621    1.778591e+05\n",
       "1622    5.414617e+04\n",
       "Length: 1623, dtype: float64"
      ]
     },
     "execution_count": 78,
     "metadata": {},
     "output_type": "execute_result"
    }
   ],
   "source": [
    "prediction"
   ]
  },
  {
   "cell_type": "code",
   "execution_count": 79,
   "metadata": {},
   "outputs": [],
   "source": [
    "prediction = pd.DataFrame(prediction)"
   ]
  },
  {
   "cell_type": "code",
   "execution_count": 80,
   "metadata": {},
   "outputs": [
    {
     "data": {
      "text/html": [
       "<div>\n",
       "<style scoped>\n",
       "    .dataframe tbody tr th:only-of-type {\n",
       "        vertical-align: middle;\n",
       "    }\n",
       "\n",
       "    .dataframe tbody tr th {\n",
       "        vertical-align: top;\n",
       "    }\n",
       "\n",
       "    .dataframe thead th {\n",
       "        text-align: right;\n",
       "    }\n",
       "</style>\n",
       "<table border=\"1\" class=\"dataframe\">\n",
       "  <thead>\n",
       "    <tr style=\"text-align: right;\">\n",
       "      <th></th>\n",
       "      <th>id</th>\n",
       "      <th>headquarter</th>\n",
       "      <th>location.Code</th>\n",
       "      <th>date_of_establishment</th>\n",
       "      <th>location</th>\n",
       "      <th>loc.details</th>\n",
       "      <th>state</th>\n",
       "      <th>deposit_amount_2011</th>\n",
       "      <th>deposit_amount_2012</th>\n",
       "      <th>deposit_amount_2013</th>\n",
       "      <th>deposit_amount_2014</th>\n",
       "      <th>deposit_amount_2015</th>\n",
       "      <th>deposit_amount_2016</th>\n",
       "    </tr>\n",
       "  </thead>\n",
       "  <tbody>\n",
       "    <tr>\n",
       "      <th>0</th>\n",
       "      <td>1</td>\n",
       "      <td>1</td>\n",
       "      <td>5</td>\n",
       "      <td>1824-12-31</td>\n",
       "      <td>Columbus</td>\n",
       "      <td>Delaware</td>\n",
       "      <td>OH</td>\n",
       "      <td>949696500.0</td>\n",
       "      <td>1.114902e+09</td>\n",
       "      <td>1.248682e+09</td>\n",
       "      <td>1.374814e+09</td>\n",
       "      <td>1.548824e+09</td>\n",
       "      <td>1.604138e+09</td>\n",
       "    </tr>\n",
       "    <tr>\n",
       "      <th>1</th>\n",
       "      <td>2</td>\n",
       "      <td>0</td>\n",
       "      <td>7</td>\n",
       "      <td>NaN</td>\n",
       "      <td>Scarsdale</td>\n",
       "      <td>Westchester</td>\n",
       "      <td>NY</td>\n",
       "      <td>439843.5</td>\n",
       "      <td>4.661865e+05</td>\n",
       "      <td>4.886130e+05</td>\n",
       "      <td>4.918950e+05</td>\n",
       "      <td>4.916880e+05</td>\n",
       "      <td>5.122125e+05</td>\n",
       "    </tr>\n",
       "    <tr>\n",
       "      <th>2</th>\n",
       "      <td>3</td>\n",
       "      <td>0</td>\n",
       "      <td>8</td>\n",
       "      <td>08-09-1964</td>\n",
       "      <td>Great Neck</td>\n",
       "      <td>Nassau</td>\n",
       "      <td>NY</td>\n",
       "      <td>286516.5</td>\n",
       "      <td>3.103995e+05</td>\n",
       "      <td>3.246585e+05</td>\n",
       "      <td>3.569745e+05</td>\n",
       "      <td>3.512745e+05</td>\n",
       "      <td>3.936825e+05</td>\n",
       "    </tr>\n",
       "    <tr>\n",
       "      <th>3</th>\n",
       "      <td>4</td>\n",
       "      <td>0</td>\n",
       "      <td>9</td>\n",
       "      <td>NaN</td>\n",
       "      <td>Hartsdale</td>\n",
       "      <td>Westchester</td>\n",
       "      <td>NY</td>\n",
       "      <td>130665.0</td>\n",
       "      <td>1.325505e+05</td>\n",
       "      <td>1.397445e+05</td>\n",
       "      <td>1.644885e+05</td>\n",
       "      <td>1.679775e+05</td>\n",
       "      <td>1.751580e+05</td>\n",
       "    </tr>\n",
       "    <tr>\n",
       "      <th>4</th>\n",
       "      <td>5</td>\n",
       "      <td>0</td>\n",
       "      <td>10</td>\n",
       "      <td>NaN</td>\n",
       "      <td>Lawrence</td>\n",
       "      <td>Nassau</td>\n",
       "      <td>NY</td>\n",
       "      <td>258912.0</td>\n",
       "      <td>2.591235e+05</td>\n",
       "      <td>2.841195e+05</td>\n",
       "      <td>2.976675e+05</td>\n",
       "      <td>3.077970e+05</td>\n",
       "      <td>3.348000e+05</td>\n",
       "    </tr>\n",
       "  </tbody>\n",
       "</table>\n",
       "</div>"
      ],
      "text/plain": [
       "   id  headquarter  location.Code date_of_establishment    location  \\\n",
       "0   1            1              5            1824-12-31    Columbus   \n",
       "1   2            0              7                   NaN   Scarsdale   \n",
       "2   3            0              8            08-09-1964  Great Neck   \n",
       "3   4            0              9                   NaN   Hartsdale   \n",
       "4   5            0             10                   NaN    Lawrence   \n",
       "\n",
       "   loc.details state  deposit_amount_2011  deposit_amount_2012  \\\n",
       "0     Delaware    OH          949696500.0         1.114902e+09   \n",
       "1  Westchester    NY             439843.5         4.661865e+05   \n",
       "2       Nassau    NY             286516.5         3.103995e+05   \n",
       "3  Westchester    NY             130665.0         1.325505e+05   \n",
       "4       Nassau    NY             258912.0         2.591235e+05   \n",
       "\n",
       "   deposit_amount_2013  deposit_amount_2014  deposit_amount_2015  \\\n",
       "0         1.248682e+09         1.374814e+09         1.548824e+09   \n",
       "1         4.886130e+05         4.918950e+05         4.916880e+05   \n",
       "2         3.246585e+05         3.569745e+05         3.512745e+05   \n",
       "3         1.397445e+05         1.644885e+05         1.679775e+05   \n",
       "4         2.841195e+05         2.976675e+05         3.077970e+05   \n",
       "\n",
       "   deposit_amount_2016  \n",
       "0         1.604138e+09  \n",
       "1         5.122125e+05  \n",
       "2         3.936825e+05  \n",
       "3         1.751580e+05  \n",
       "4         3.348000e+05  "
      ]
     },
     "execution_count": 80,
     "metadata": {},
     "output_type": "execute_result"
    }
   ],
   "source": [
    "filename = os.path.join(os.getcwd(), 'test_hackathon.csv')\n",
    "\n",
    "test = pd.read_csv(filename)\n",
    "test.head()"
   ]
  },
  {
   "cell_type": "code",
   "execution_count": 81,
   "metadata": {},
   "outputs": [],
   "source": [
    "sub3 = pd.concat([test['id'], prediction], axis = 1)"
   ]
  },
  {
   "cell_type": "code",
   "execution_count": 82,
   "metadata": {},
   "outputs": [],
   "source": [
    "sub3.columns = [['id', 'deposit_amount_2017']]"
   ]
  },
  {
   "cell_type": "code",
   "execution_count": 83,
   "metadata": {},
   "outputs": [],
   "source": [
    "sub3.to_csv(\"sub3.csv\", index = False)"
   ]
  },
  {
   "cell_type": "code",
   "execution_count": 84,
   "metadata": {},
   "outputs": [
    {
     "data": {
      "text/plain": [
       "(1623, 2)"
      ]
     },
     "execution_count": 84,
     "metadata": {},
     "output_type": "execute_result"
    }
   ],
   "source": [
    "sub3.shape"
   ]
  },
  {
   "cell_type": "code",
   "execution_count": 85,
   "metadata": {},
   "outputs": [
    {
     "data": {
      "text/html": [
       "<div>\n",
       "<style scoped>\n",
       "    .dataframe tbody tr th:only-of-type {\n",
       "        vertical-align: middle;\n",
       "    }\n",
       "\n",
       "    .dataframe tbody tr th {\n",
       "        vertical-align: top;\n",
       "    }\n",
       "\n",
       "    .dataframe thead tr th {\n",
       "        text-align: left;\n",
       "    }\n",
       "</style>\n",
       "<table border=\"1\" class=\"dataframe\">\n",
       "  <thead>\n",
       "    <tr>\n",
       "      <th></th>\n",
       "      <th>id</th>\n",
       "      <th>deposit_amount_2017</th>\n",
       "    </tr>\n",
       "  </thead>\n",
       "  <tbody>\n",
       "    <tr>\n",
       "      <th>0</th>\n",
       "      <td>1</td>\n",
       "      <td>2.249757e+09</td>\n",
       "    </tr>\n",
       "    <tr>\n",
       "      <th>1</th>\n",
       "      <td>2</td>\n",
       "      <td>8.705533e+05</td>\n",
       "    </tr>\n",
       "    <tr>\n",
       "      <th>2</th>\n",
       "      <td>3</td>\n",
       "      <td>6.274371e+05</td>\n",
       "    </tr>\n",
       "    <tr>\n",
       "      <th>3</th>\n",
       "      <td>4</td>\n",
       "      <td>3.032163e+05</td>\n",
       "    </tr>\n",
       "    <tr>\n",
       "      <th>4</th>\n",
       "      <td>5</td>\n",
       "      <td>5.197718e+05</td>\n",
       "    </tr>\n",
       "  </tbody>\n",
       "</table>\n",
       "</div>"
      ],
      "text/plain": [
       "  id deposit_amount_2017\n",
       "0  1        2.249757e+09\n",
       "1  2        8.705533e+05\n",
       "2  3        6.274371e+05\n",
       "3  4        3.032163e+05\n",
       "4  5        5.197718e+05"
      ]
     },
     "execution_count": 85,
     "metadata": {},
     "output_type": "execute_result"
    }
   ],
   "source": [
    "sub3.head()"
   ]
  }
 ],
 "metadata": {
  "kernelspec": {
   "display_name": "Python 3 (ipykernel)",
   "language": "python",
   "name": "python3"
  },
  "language_info": {
   "codemirror_mode": {
    "name": "ipython",
    "version": 3
   },
   "file_extension": ".py",
   "mimetype": "text/x-python",
   "name": "python",
   "nbconvert_exporter": "python",
   "pygments_lexer": "ipython3",
   "version": "3.9.16"
  }
 },
 "nbformat": 4,
 "nbformat_minor": 4
}
